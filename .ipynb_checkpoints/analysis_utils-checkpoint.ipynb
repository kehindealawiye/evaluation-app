{
 "cells": [
  {
   "cell_type": "markdown",
   "id": "47c28178",
   "metadata": {},
   "source": [
    "# Survey Analysis Notebook\n",
    "This notebook mirrors the app logic for offline testing and analysis."
   ]
  },
  {
   "cell_type": "code",
   "execution_count": null,
   "id": "c36d968b-7cf4-4a34-b447-1a74c702265e",
   "metadata": {
    "scrolled": true
   },
   "outputs": [],
   "source": [
    "!pip install wordcloud"
   ]
  },
  {
   "cell_type": "code",
   "execution_count": null,
   "id": "16764b3b-dcb6-46bf-ae2d-918133150c72",
   "metadata": {},
   "outputs": [],
   "source": [
    "!pip install seaborn"
   ]
  },
  {
   "cell_type": "code",
   "execution_count": null,
   "id": "322be531-7304-4105-97fd-f0a2c8545f8d",
   "metadata": {},
   "outputs": [],
   "source": [
    "!pip install wordcloud "
   ]
  },
  {
   "cell_type": "code",
   "execution_count": null,
   "id": "08770d0a-913d-4f9c-bbe9-07012a123db2",
   "metadata": {},
   "outputs": [],
   "source": [
    "!pip install scipy "
   ]
  },
  {
   "cell_type": "code",
   "execution_count": null,
   "id": "4e282793-f4d3-42e2-80f3-b0295f8693e8",
   "metadata": {},
   "outputs": [],
   "source": [
    "!pip install statsmodels "
   ]
  },
  {
   "cell_type": "code",
   "execution_count": null,
   "id": "d0b64912-fb10-4765-9d29-2fe2611a5bc8",
   "metadata": {},
   "outputs": [],
   "source": [
    "!pip install textblob"
   ]
  },
  {
   "cell_type": "code",
   "execution_count": null,
   "id": "94fd74b0-3bc8-418f-84d4-ec7e46f7d8c3",
   "metadata": {},
   "outputs": [],
   "source": [
    "!pip install nltk"
   ]
  },
  {
   "cell_type": "code",
   "execution_count": null,
   "id": "ee8995ef",
   "metadata": {},
   "outputs": [],
   "source": [
    "import pandas as pd\n",
    "import matplotlib.pyplot as plt\n",
    "import seaborn as sns\n",
    "from wordcloud import WordCloud\n",
    "from scipy.stats import chi2_contingency, f_oneway\n",
    "import statsmodels.formula.api as smf\n",
    "from textblob import TextBlob\n",
    "import nltk\n",
    "nltk.download('punkt')\n",
    "nltk.download('stopwords')"
   ]
  },
  {
   "cell_type": "code",
   "execution_count": null,
   "id": "fbb99a54",
   "metadata": {},
   "outputs": [],
   "source": [
    "# Load your dataset\n",
    "# Example:\n",
    "# df = pd.read_excel('your_file.xlsx')\n",
    "# df.head()"
   ]
  }
 ],
 "metadata": {
  "kernelspec": {
   "display_name": "Python 3 (ipykernel)",
   "language": "python",
   "name": "python3"
  },
  "language_info": {
   "codemirror_mode": {
    "name": "ipython",
    "version": 3
   },
   "file_extension": ".py",
   "mimetype": "text/x-python",
   "name": "python",
   "nbconvert_exporter": "python",
   "pygments_lexer": "ipython3",
   "version": "3.8.20"
  }
 },
 "nbformat": 4,
 "nbformat_minor": 5
}
